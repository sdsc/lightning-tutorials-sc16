{
 "cells": [
  {
   "cell_type": "markdown",
   "metadata": {},
   "source": [
    "# Prepare input data\n",
    "\n",
    "This notebook just needs to be executed if you do not have already the data files in the `data/` subfolder.\n",
    "It creates a binary file in HDF5 format of about 2GB filled with random numbers generated with `numpy` from an exponential distribution."
   ]
  },
  {
   "cell_type": "code",
   "execution_count": null,
   "metadata": {
    "collapsed": false
   },
   "outputs": [],
   "source": [
    "import numpy as np\n",
    "import os"
   ]
  },
  {
   "cell_type": "code",
   "execution_count": null,
   "metadata": {
    "collapsed": false
   },
   "outputs": [],
   "source": [
    "def random_array():\n",
    "    if os.path.exists(os.path.join('../data', 'random.hdf5')):\n",
    "        return\n",
    "\n",
    "    print(\"Create random data for array exercise\")\n",
    "    import h5py\n",
    "\n",
    "    with h5py.File(os.path.join('../data', 'random.hdf5')) as f:\n",
    "        dset = f.create_dataset('/x', shape=(500000000,), dtype='f4')\n",
    "        total_chunks = 500000000 / 1000000\n",
    "        for i in range(0, 500000000, 1000000):\n",
    "            print(i / 500000000, total_chunks)\n",
    "            dset[i: i + 1000000] = np.random.exponential(size=1000000)"
   ]
  },
  {
   "cell_type": "code",
   "execution_count": null,
   "metadata": {
    "collapsed": false
   },
   "outputs": [],
   "source": [
    "!mkdir ../data"
   ]
  },
  {
   "cell_type": "code",
   "execution_count": null,
   "metadata": {
    "collapsed": false
   },
   "outputs": [],
   "source": [
    "random_array()"
   ]
  },
  {
   "cell_type": "code",
   "execution_count": null,
   "metadata": {
    "collapsed": false
   },
   "outputs": [],
   "source": [
    "!ls -lah ../data"
   ]
  },
  {
   "cell_type": "code",
   "execution_count": null,
   "metadata": {
    "collapsed": false
   },
   "outputs": [],
   "source": []
  }
 ],
 "metadata": {
  "kernelspec": {
   "display_name": "Python 3",
   "language": "python",
   "name": "python3"
  },
  "language_info": {
   "codemirror_mode": {
    "name": "ipython",
    "version": 3
   },
   "file_extension": ".py",
   "mimetype": "text/x-python",
   "name": "python",
   "nbconvert_exporter": "python",
   "pygments_lexer": "ipython3",
   "version": "3.4.5"
  }
 },
 "nbformat": 4,
 "nbformat_minor": 0
}
